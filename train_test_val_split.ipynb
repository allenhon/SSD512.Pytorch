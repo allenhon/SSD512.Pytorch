{
 "cells": [
  {
   "cell_type": "code",
   "execution_count": 15,
   "metadata": {},
   "outputs": [],
   "source": [
    "import os\n",
    "from sklearn.model_selection import train_test_split\n",
    "import shutil"
   ]
  },
  {
   "cell_type": "code",
   "execution_count": 16,
   "metadata": {},
   "outputs": [
    {
     "name": "stdout",
     "output_type": "stream",
     "text": [
      "length of dataset: 29\n",
      "['NIHON_SCC_B1.xml', 'NIHON_SCC_B2_photoshopped.xml', 'NIHON_SCC_B3_photoshopped.xml', 'NIHON_SCC_B4.xml', 'Nihon_SCC_B5_Photoshopped.xml', 'Nihon_SCC_B6_Photoshopped.xml', 'NIHON_VGT_B1.xml', 'NIHON_VGT_B2.xml', 'NIHON_VGT_B3_Photoshopped_Resized.xml', 'NIHON_VGT_B4.xml', 'NIHON_VGT_B5.xml', 'NIHON_VGT_B6.xml', 'SAC_SCC_B1.xml', 'SAC_SCC_B10.xml', 'SAC_SCC_B2.xml', 'SAC_SCC_B3_photoshopped.xml', 'SAC_SCC_B4.xml', 'SAC_SCC_B5.xml', 'SAC_SCC_B6.xml', 'SAC_SCC_B7.xml', 'SAC_SCC_B8.xml', 'SAC_SCC_B9.xml', 'SAC_VGT_B1.xml', 'SAC_VGT_B2.xml', 'SAC_VGT_B3_photoshopped.xml', 'SAC_VGT_B4.xml', 'SAC_VGT_B5.xml', 'SAC_VGT_B6_photoshopped.xml', 'SAC_VGT_B7.xml']\n"
     ]
    }
   ],
   "source": [
    "path = r\"C:\\Users\\chenghon\\Desktop\\FP7_pascalvoc\\VOC2007\\Annotations\"\n",
    "dir_list = os.listdir(path)\n",
    "print ('length of dataset:',len(dir_list))\n",
    "print (dir_list)"
   ]
  },
  {
   "cell_type": "code",
   "execution_count": 17,
   "metadata": {},
   "outputs": [
    {
     "name": "stdout",
     "output_type": "stream",
     "text": [
      "['NIHON_SCC_B2_photoshopped.xml', 'SAC_VGT_B6_photoshopped.xml', 'NIHON_VGT_B1.xml', 'SAC_SCC_B5.xml', 'SAC_VGT_B7.xml', 'NIHON_VGT_B2.xml', 'SAC_VGT_B4.xml', 'NIHON_VGT_B3_Photoshopped_Resized.xml', 'NIHON_SCC_B3_photoshopped.xml', 'SAC_SCC_B9.xml', 'NIHON_SCC_B1.xml', 'Nihon_SCC_B6_Photoshopped.xml', 'SAC_SCC_B8.xml', 'SAC_SCC_B3_photoshopped.xml', 'SAC_SCC_B4.xml', 'SAC_VGT_B1.xml', 'SAC_VGT_B2.xml', 'Nihon_SCC_B5_Photoshopped.xml', 'NIHON_VGT_B5.xml', 'SAC_SCC_B10.xml', 'NIHON_VGT_B6.xml', 'SAC_SCC_B2.xml', 'NIHON_SCC_B4.xml']\n",
      "['SAC_VGT_B3_photoshopped.xml', 'SAC_SCC_B1.xml', 'SAC_SCC_B6.xml', 'SAC_SCC_B7.xml', 'NIHON_VGT_B4.xml', 'SAC_VGT_B5.xml']\n",
      "23\n",
      "6\n"
     ]
    }
   ],
   "source": [
    "train_ratio = 0.8\n",
    "test_ratio = 0.2\n",
    "\n",
    "train, test = train_test_split(dir_list, test_size=1 - train_ratio)\n",
    "\n",
    "# test is now 20% of the initial data set\n",
    "# validation is now 20% of the initial data set\n",
    "# val, test= train_test_split(test, test_size=test_ratio/(test_ratio + validation_ratio)) \n",
    "\n",
    "print (train)\n",
    "print (test)\n",
    "print(len(train))\n",
    "# print (len(val))\n",
    "print(len(test))"
   ]
  },
  {
   "cell_type": "code",
   "execution_count": 18,
   "metadata": {},
   "outputs": [],
   "source": [
    "ImageSet_dir=r'C:\\Users\\chenghon\\Desktop\\FP7_pascalvoc\\VOC2007\\ImageSets\\Main'\n",
    "\n",
    "# Train\n",
    "with open(r'C:\\Users\\chenghon\\Desktop\\FP7_pascalvoc\\VOC2007\\ImageSets\\Main\\trainval.txt', 'w') as fp:\n",
    "    for item in train:\n",
    "        # write each item on a new line\n",
    "        fp.write(\"%s\\n\" % item[:-4])\n",
    "    fp.close()"
   ]
  },
  {
   "cell_type": "code",
   "execution_count": 19,
   "metadata": {},
   "outputs": [],
   "source": [
    "# Test\n",
    "with open(r'C:\\Users\\chenghon\\Desktop\\FP7_pascalvoc\\VOC2007\\ImageSets\\Main\\test.txt', 'w') as fp:\n",
    "    for item in test:\n",
    "        # write each item on a new line\n",
    "        fp.write(\"%s\\n\" % item[:-4])\n",
    "    fp.close()"
   ]
  },
  {
   "cell_type": "code",
   "execution_count": null,
   "metadata": {},
   "outputs": [],
   "source": []
  }
 ],
 "metadata": {
  "kernelspec": {
   "display_name": "images",
   "language": "python",
   "name": "python3"
  },
  "language_info": {
   "codemirror_mode": {
    "name": "ipython",
    "version": 3
   },
   "file_extension": ".py",
   "mimetype": "text/x-python",
   "name": "python",
   "nbconvert_exporter": "python",
   "pygments_lexer": "ipython3",
   "version": "3.7.13"
  },
  "orig_nbformat": 4
 },
 "nbformat": 4,
 "nbformat_minor": 2
}
