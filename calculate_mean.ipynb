{
 "cells": [
  {
   "attachments": {},
   "cell_type": "markdown",
   "metadata": {},
   "source": [
    "Calculate Mean and STD"
   ]
  },
  {
   "cell_type": "code",
   "execution_count": 1,
   "metadata": {},
   "outputs": [
    {
     "name": "stdout",
     "output_type": "stream",
     "text": [
      "Mean: [73.08378325 67.16220277 73.71411804]\n",
      "Standard deviation: [46.57792386 50.1267743  70.97611519]\n"
     ]
    }
   ],
   "source": [
    "import numpy as np\n",
    "import os\n",
    "import cv2\n",
    "\n",
    "path = r'C:\\Users\\chenghon\\Desktop\\FP7_pascalvoc\\VOC2007\\JPEGImages'\n",
    "img_size = (512, 512)\n",
    "\n",
    "# Load all the images in the dataset and convert them to np arrays\n",
    "images = []\n",
    "for img_name in os.listdir(path):\n",
    "    img = cv2.imread(os.path.join(path, img_name))\n",
    "    img = cv2.resize(img, img_size)\n",
    "    images.append(np.asarray(img))\n",
    "\n",
    "# Calculate the mean and standard deviation of the images\n",
    "images = np.asarray(images)\n",
    "mean = np.mean(images, axis=(0,1,2))\n",
    "std = np.std(images, axis=(0,1,2))\n",
    "\n",
    "print('Mean:', mean)\n",
    "print('Standard deviation:', std)"
   ]
  },
  {
   "cell_type": "code",
   "execution_count": null,
   "metadata": {},
   "outputs": [],
   "source": []
  }
 ],
 "metadata": {
  "kernelspec": {
   "display_name": "images",
   "language": "python",
   "name": "python3"
  },
  "language_info": {
   "codemirror_mode": {
    "name": "ipython",
    "version": 3
   },
   "file_extension": ".py",
   "mimetype": "text/x-python",
   "name": "python",
   "nbconvert_exporter": "python",
   "pygments_lexer": "ipython3",
   "version": "3.7.13"
  },
  "orig_nbformat": 4
 },
 "nbformat": 4,
 "nbformat_minor": 2
}
